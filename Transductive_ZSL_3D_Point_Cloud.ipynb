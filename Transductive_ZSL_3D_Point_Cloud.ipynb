{
  "nbformat": 4,
  "nbformat_minor": 0,
  "metadata": {
    "colab": {
      "name": "Transductive_ZSL_3D_Point_Cloud.ipynb",
      "provenance": [],
      "collapsed_sections": [],
      "authorship_tag": "ABX9TyMOToYLJad6U4fitaxKMyBd",
      "include_colab_link": true
    },
    "kernelspec": {
      "name": "python3",
      "display_name": "Python 3"
    },
    "language_info": {
      "name": "python"
    },
    "accelerator": "GPU",
    "gpuClass": "standard"
  },
  "cells": [
    {
      "cell_type": "markdown",
      "metadata": {
        "id": "view-in-github",
        "colab_type": "text"
      },
      "source": [
        "<a href=\"https://colab.research.google.com/github/ShadmanRohan/Transductive_ZSL_3D_Point_Cloud/blob/master/Transductive_ZSL_3D_Point_Cloud.ipynb\" target=\"_parent\"><img src=\"https://colab.research.google.com/assets/colab-badge.svg\" alt=\"Open In Colab\"/></a>"
      ]
    },
    {
      "cell_type": "code",
      "execution_count": 1,
      "metadata": {
        "colab": {
          "base_uri": "https://localhost:8080/"
        },
        "id": "PxVjKxNJ313K",
        "outputId": "896a11b3-bf8a-4ba7-d6b3-9220eeab2cce"
      },
      "outputs": [
        {
          "output_type": "stream",
          "name": "stdout",
          "text": [
            "Cloning into 'Transductive_ZSL_3D_Point_Cloud'...\n",
            "remote: Enumerating objects: 251, done.\u001b[K\n",
            "remote: Counting objects: 100% (123/123), done.\u001b[K\n",
            "remote: Compressing objects: 100% (81/81), done.\u001b[K\n",
            "remote: Total 251 (delta 51), reused 103 (delta 42), pack-reused 128\u001b[K\n",
            "Receiving objects: 100% (251/251), 954.42 KiB | 3.91 MiB/s, done.\n",
            "Resolving deltas: 100% (85/85), done.\n"
          ]
        }
      ],
      "source": [
        "!git clone https://github.com/ShadmanRohan/Transductive_ZSL_3D_Point_Cloud.git"
      ]
    },
    {
      "cell_type": "code",
      "source": [
        "from google.colab import drive\n",
        "drive.mount('/content/drive/')"
      ],
      "metadata": {
        "id": "qvFEnuz1Pb84",
        "colab": {
          "base_uri": "https://localhost:8080/"
        },
        "outputId": "0a8633fe-824d-476e-9751-d0cc0e0db686"
      },
      "execution_count": 2,
      "outputs": [
        {
          "output_type": "stream",
          "name": "stdout",
          "text": [
            "Mounted at /content/drive/\n"
          ]
        }
      ]
    },
    {
      "cell_type": "code",
      "source": [
        "!pip install -r /content/Transductive_ZSL_3D_Point_Cloud/requirements.txt"
      ],
      "metadata": {
        "colab": {
          "base_uri": "https://localhost:8080/"
        },
        "id": "rRsOCz8bPK55",
        "outputId": "885ec6ae-cab7-41d4-e024-d3f8359c2eb2"
      },
      "execution_count": 3,
      "outputs": [
        {
          "output_type": "stream",
          "name": "stdout",
          "text": [
            "Looking in indexes: https://pypi.org/simple, https://us-python.pkg.dev/colab-wheels/public/simple/\n",
            "Collecting numpy==1.20.2\n",
            "  Downloading numpy-1.20.2-cp37-cp37m-manylinux2010_x86_64.whl (15.3 MB)\n",
            "\u001b[K     |████████████████████████████████| 15.3 MB 4.2 MB/s \n",
            "\u001b[?25hCollecting Pillow==8.2.0\n",
            "  Downloading Pillow-8.2.0-cp37-cp37m-manylinux1_x86_64.whl (3.0 MB)\n",
            "\u001b[K     |████████████████████████████████| 3.0 MB 52.3 MB/s \n",
            "\u001b[?25hCollecting PyYAML==5.4.1\n",
            "  Downloading PyYAML-5.4.1-cp37-cp37m-manylinux1_x86_64.whl (636 kB)\n",
            "\u001b[K     |████████████████████████████████| 636 kB 72.8 MB/s \n",
            "\u001b[?25hCollecting scipy==1.6.2\n",
            "  Downloading scipy-1.6.2-cp37-cp37m-manylinux1_x86_64.whl (27.4 MB)\n",
            "\u001b[K     |████████████████████████████████| 27.4 MB 1.2 MB/s \n",
            "\u001b[31mERROR: Could not find a version that satisfies the requirement torch==1.8.1+cu111 (from versions: 1.0.0, 1.0.1, 1.0.1.post2, 1.1.0, 1.2.0, 1.3.0, 1.3.1, 1.4.0, 1.5.0, 1.5.1, 1.6.0, 1.7.0, 1.7.1, 1.8.0, 1.8.1, 1.9.0, 1.9.1, 1.10.0, 1.10.1, 1.10.2, 1.11.0, 1.12.0, 1.12.1)\u001b[0m\n",
            "\u001b[31mERROR: No matching distribution found for torch==1.8.1+cu111\u001b[0m\n",
            "\u001b[?25h"
          ]
        }
      ]
    },
    {
      "cell_type": "code",
      "source": [
        "!python /content/Transductive_ZSL_3D_Point_Cloud/train_transductive.py --config_path=/content/Transductive_ZSL_3D_Point_Cloud/config/ScanObjectNN.yaml --dataset=ScanObjectNN --method=ours --model_path=/content/drive/MyDrive/transductive_zsl/savedmodel/saved_model/ScanObjectNN/model_PointConv_ours_transductive.pth"
      ],
      "metadata": {
        "colab": {
          "base_uri": "https://localhost:8080/"
        },
        "id": "oq7WVyHYPO9v",
        "outputId": "2e7157a4-184e-4acc-bdb3-33396f8f74b5"
      },
      "execution_count": 4,
      "outputs": [
        {
          "output_type": "stream",
          "name": "stdout",
          "text": [
            "Traceback (most recent call last):\n",
            "  File \"/usr/local/lib/python3.7/dist-packages/scipy/io/matlab/mio.py\", line 39, in _open_file\n",
            "    return open(file_like, mode), True\n",
            "FileNotFoundError: [Errno 2] No such file or directory: 'data/ScanObjectNN/PointConv/seen_train.mat'\n",
            "\n",
            "During handling of the above exception, another exception occurred:\n",
            "\n",
            "Traceback (most recent call last):\n",
            "  File \"/content/Transductive_ZSL_3D_Point_Cloud/train_transductive.py\", line 49, in <module>\n",
            "    data =data_util.get_data()\n",
            "  File \"/content/Transductive_ZSL_3D_Point_Cloud/src/datautil.py\", line 73, in get_data\n",
            "    self.get_seen_data()\n",
            "  File \"/content/Transductive_ZSL_3D_Point_Cloud/src/datautil.py\", line 30, in get_seen_data\n",
            "    temp = sio.loadmat(self.config['dataset_path'] + self.backbone + '/seen_train.mat')\n",
            "  File \"/usr/local/lib/python3.7/dist-packages/scipy/io/matlab/mio.py\", line 224, in loadmat\n",
            "    with _open_file_context(file_name, appendmat) as f:\n",
            "  File \"/usr/lib/python3.7/contextlib.py\", line 112, in __enter__\n",
            "    return next(self.gen)\n",
            "  File \"/usr/local/lib/python3.7/dist-packages/scipy/io/matlab/mio.py\", line 17, in _open_file_context\n",
            "    f, opened = _open_file(file_like, appendmat, mode)\n",
            "  File \"/usr/local/lib/python3.7/dist-packages/scipy/io/matlab/mio.py\", line 45, in _open_file\n",
            "    return open(file_like, mode), True\n",
            "FileNotFoundError: [Errno 2] No such file or directory: 'data/ScanObjectNN/PointConv/seen_train.mat'\n"
          ]
        }
      ]
    },
    {
      "cell_type": "code",
      "source": [
        "!python /content/Transductive_ZSL_3D_Point_Cloud/train_inductive.py --config_path=/content/Transductive_ZSL_3D_Point_Cloud/config/ScanObjectNN.yaml --dataset=ScanObjectNN --method=ours"
      ],
      "metadata": {
        "colab": {
          "base_uri": "https://localhost:8080/"
        },
        "id": "D37CUqMnQkRj",
        "outputId": "3b317efe-e6d1-497c-c492-d071bbfce0e2"
      },
      "execution_count": 5,
      "outputs": [
        {
          "output_type": "stream",
          "name": "stdout",
          "text": [
            "{'seen_class': 26, 'unseen_class': 11, 'total_class': 37, 'dataset_path': 'data/ScanObjectNN/', 'saved_model': 'saved_model/ScanObjectNN/', 'epoch': 5, 'batch_size': 64, 'lr': '1e-4', 'wd': '1e-6', 'alpha_triplet': 0.001, 'alpha_hubness': 0.2, 'alpha_unbiased': 0.001}\n",
            "Traceback (most recent call last):\n",
            "  File \"/usr/local/lib/python3.7/dist-packages/scipy/io/matlab/mio.py\", line 39, in _open_file\n",
            "    return open(file_like, mode), True\n",
            "FileNotFoundError: [Errno 2] No such file or directory: 'data/ScanObjectNN/PointConv/seen_train.mat'\n",
            "\n",
            "During handling of the above exception, another exception occurred:\n",
            "\n",
            "Traceback (most recent call last):\n",
            "  File \"/content/Transductive_ZSL_3D_Point_Cloud/train_inductive.py\", line 48, in <module>\n",
            "    data =data_util.get_data()\n",
            "  File \"/content/Transductive_ZSL_3D_Point_Cloud/src/datautil.py\", line 73, in get_data\n",
            "    self.get_seen_data()\n",
            "  File \"/content/Transductive_ZSL_3D_Point_Cloud/src/datautil.py\", line 30, in get_seen_data\n",
            "    temp = sio.loadmat(self.config['dataset_path'] + self.backbone + '/seen_train.mat')\n",
            "  File \"/usr/local/lib/python3.7/dist-packages/scipy/io/matlab/mio.py\", line 224, in loadmat\n",
            "    with _open_file_context(file_name, appendmat) as f:\n",
            "  File \"/usr/lib/python3.7/contextlib.py\", line 112, in __enter__\n",
            "    return next(self.gen)\n",
            "  File \"/usr/local/lib/python3.7/dist-packages/scipy/io/matlab/mio.py\", line 17, in _open_file_context\n",
            "    f, opened = _open_file(file_like, appendmat, mode)\n",
            "  File \"/usr/local/lib/python3.7/dist-packages/scipy/io/matlab/mio.py\", line 45, in _open_file\n",
            "    return open(file_like, mode), True\n",
            "FileNotFoundError: [Errno 2] No such file or directory: 'data/ScanObjectNN/PointConv/seen_train.mat'\n"
          ]
        }
      ]
    },
    {
      "cell_type": "code",
      "source": [
        "!python /content/Transductive_ZSL_3D_Point_Cloud/train_inductive.py --config_path=/content/Transductive_ZSL_3D_Point_Cloud/config/ModelNet_config.yaml --dataset=ModelNet --method=ours"
      ],
      "metadata": {
        "colab": {
          "base_uri": "https://localhost:8080/"
        },
        "id": "ci3KFWICsFh4",
        "outputId": "a2d88856-a913-4703-f195-a9ed8ae7f34f"
      },
      "execution_count": 12,
      "outputs": [
        {
          "output_type": "stream",
          "name": "stdout",
          "text": [
            "{'seen_class': 30, 'unseen_class': 10, 'total_class': 40, 'dataset_path': '/content/drive/MyDrive/transductive_zsl/data/data/ModelNet/', 'saved_model': '/content/drive/MyDrive/transductive_zsl/savedmodel/saved_model/ModelNet/', 'epoch': 5, 'batch_size': 64, 'lr': '1e-4', 'wd': '1e-6', 'alpha_triplet': 0.001, 'alpha_hubness': 0.2, 'alpha_unbiased': 0.001}\n",
            "Epoch= 1  ZSL: acc= 11.233480176211454 , GZSL: acc_S= 90.38461538461539 , acc_U= 0.0 , HM= 0.0\n",
            "Epoch= 2  ZSL: acc= 12.334801762114537 , GZSL: acc_S= 90.57692307692308 , acc_U= 0.0 , HM= 0.0\n",
            "Epoch= 3  ZSL: acc= 11.123348017621145 , GZSL: acc_S= 90.83333333333333 , acc_U= 0.0 , HM= 0.0\n",
            "Epoch= 4  ZSL: acc= 10.572687224669604 , GZSL: acc_S= 90.7051282051282 , acc_U= 0.0 , HM= 0.0\n",
            "Epoch= 5  ZSL: acc= 10.352422907488986 , GZSL: acc_S= 91.15384615384615 , acc_U= 0.0 , HM= 0.0\n"
          ]
        }
      ]
    },
    {
      "cell_type": "markdown",
      "source": [
        "* Does transductive require models?\n",
        "* Some files are missing. Example Mcgill seen classes, unseen_ModelNet10?\n",
        "* baseline method requires unseen_labels"
      ],
      "metadata": {
        "id": "QBPOFbpLaVVW"
      }
    },
    {
      "cell_type": "markdown",
      "source": [
        "|             | McGill      | ModelNet    | ScanObjectNN    |\n",
        "| ----------- | ----------- | ----------- | ------------    |\n",
        "| ours(tr)    |   &cross;   | no weights  | unlabel_feature |\n",
        "| baseline(tr)|   &cross;   | no weights  | &check;         |\n",
        "| ours(in)    |   &cross;   | &check;     | &check;         |\n",
        "| baseline(in)|   &cross;   | unseen_labels | &cross;       |\n"
      ],
      "metadata": {
        "id": "XCduDiPavILw"
      }
    },
    {
      "cell_type": "code",
      "source": [
        ""
      ],
      "metadata": {
        "id": "jL4AmijoMyq0"
      },
      "execution_count": 8,
      "outputs": []
    }
  ]
}